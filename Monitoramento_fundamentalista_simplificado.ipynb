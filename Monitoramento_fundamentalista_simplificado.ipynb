{
  "nbformat": 4,
  "nbformat_minor": 0,
  "metadata": {
    "colab": {
      "provenance": [],
      "authorship_tag": "ABX9TyM/9CFFlyxYBU1tYuL0KjeM",
      "include_colab_link": true
    },
    "kernelspec": {
      "name": "python3",
      "display_name": "Python 3"
    },
    "language_info": {
      "name": "python"
    }
  },
  "cells": [
    {
      "cell_type": "markdown",
      "metadata": {
        "id": "view-in-github",
        "colab_type": "text"
      },
      "source": [
        "<a href=\"https://colab.research.google.com/github/mario-rutman/02_data_tyding_project/blob/master/Monitoramento_fundamentalista_simplificado.ipynb\" target=\"_parent\"><img src=\"https://colab.research.google.com/assets/colab-badge.svg\" alt=\"Open In Colab\"/></a>"
      ]
    },
    {
      "cell_type": "code",
      "source": [
        "# Se começar a dar defeito no códgo fazer upgrade.\n",
        "# pip install --upgrade yfinance\n",
        "\n"
      ],
      "metadata": {
        "id": "eh0lNtDC1Vd0"
      },
      "execution_count": null,
      "outputs": []
    },
    {
      "cell_type": "markdown",
      "source": [
        "## Monitoramento fundamentalista para compra de ações.\n",
        "#### Partindo do fato que você faz análise fundamentalista e já escolheu as empresas que quer ter em seu portfólio, que você quer ser sócio ou aumentar sua participação, a questão é apenas saber se o nível de preço está alto, médio ou baixo.\n",
        "#### Em __ACOES_PREDEFINIDAS__ você escreve a sigla da ação e o nome da empresa que estão em seu radar fundamentalista.\n",
        "#### S E M P R E entre aspas, tal como está no exemplo de meu portfólio. Qualquer aspas, vírgula, parenteses que estejam fora do lugar o script não funciona.\n",
        "#### Em __PERIODO_ANOS__ você coloca o número de anos (1, 2, 3, 4 ou 5)\n",
        "#### Depois de tudo preenchido é só clicar na seta ou Ctrl+Enter.\n",
        "#### A coluna Resumo da tabela explica o nível de preço da ação."
      ],
      "metadata": {
        "id": "WjEh1Mc3JU7Z"
      }
    },
    {
      "cell_type": "markdown",
      "source": [
        "### Estudando uma empresa:\n",
        "#### 1º DRE bonitinha: receitas e lucros aumentando por anos consecutivos.\n",
        "#### 2º ROE alto.\n",
        "#### 3º Dívida sempre menor que 4. Se for menor que 1 excelente.\n",
        "#### 4º Dividend Yield médio maior que 5%.\n",
        "#### 5º Tem que ter nicho, de modo a ser pouco provável surgimento de concorrência e boa gestão.\n",
        "#### 6º Seu sentimento em relação à empresa.\n",
        "\n",
        "#### Obs: Note que estes critérios são pouco precisos e objetivos. Somente o uso e estudos constantes permite seu entendimento."
      ],
      "metadata": {
        "id": "54cRV7bBQkFi"
      }
    },
    {
      "cell_type": "code",
      "source": [
        "import yfinance as yf\n",
        "import pandas as pd\n",
        "from datetime import datetime, timedelta\n",
        "from ipywidgets import widgets\n",
        "from IPython.display import display, clear_output\n",
        "\n",
        "# Lista pré-definida de ações (SEMPRE entre aspas para o script rodar sem erros) e período.\n",
        "\n",
        "ACOES_PREDEFINIDAS = [\n",
        "    ('BRAP3','Bradespar'), ('BBAS3','Banco do Brasil'),\n",
        "     ('BBDC3','Bradesco'), ('BBSE3','BB Seguridade'), ('B3SA3', 'Brasil Bolsa Balcão'),\n",
        "     ('CMIG3','CMIG'), ('CXSE3','Caixa Seguridade'), ('EGIE3','Engie Brasil'), ('GRND3', 'Grendene'),\n",
        "     ('ITSA3','Itausa'), ('ITUB3','Itaú Unibanco'), ('PETR3','Petrobras'),\n",
        "     ('PSSA3','Porto'), ('SANB3','Santander'), ('SAPR3','SANEPAR'),\n",
        "     ('VALE3','Vale'), ('PMAM3', 'Paranapanema'), ('UNIP6', 'Unipar')\n",
        "     ]\n",
        "\n",
        "PERIODO_ANOS = 5\n",
        "\n",
        "# Função para obter dados e centis\n",
        "def obter_dados_e_centis(acoes, periodo):\n",
        "    hoje = datetime.now()\n",
        "    inicio = hoje - timedelta(days=periodo*365)\n",
        "\n",
        "    dados = {}\n",
        "    for ticker, nome in acoes:\n",
        "        acao = yf.Ticker(f\"{ticker}.SA\")\n",
        "        historico = acao.history(start=inicio, end=hoje)\n",
        "        if not historico.empty:\n",
        "            precos = historico['Close']\n",
        "            ultimo_preco = precos.iloc[-1]\n",
        "            centil = (precos <= ultimo_preco).mean() * 100\n",
        "            dados[ticker] = {\n",
        "                'Nome': nome,\n",
        "                'Último Preço': round(ultimo_preco, 2),\n",
        "                'Centil': int(round(centil, 0))\n",
        "            }\n",
        "\n",
        "    df = pd.DataFrame(dados).T\n",
        "    df = df.sort_values('Centil')\n",
        "    df['Resumo'] = df.apply(lambda row: f\"Nos últimos {periodo} anos, {100-row['Centil']}% das cotações de fechamento da {row.name} ficaram acima da cotação atual (R${row['Último Preço']:.2f}).\", axis=1)\n",
        "    return df\n",
        "\n",
        "def calcular_custo_total(selecoes, df):\n",
        "    custo_total = 0\n",
        "    acoes_compradas = {}\n",
        "    total_acoes = 0\n",
        "    for ticker, quantidade in selecoes.items():\n",
        "        if quantidade > 0:\n",
        "            preco = df.loc[ticker, 'Último Preço']\n",
        "            custo = preco * quantidade\n",
        "            custo_total += custo\n",
        "            acoes_compradas[ticker] = quantidade\n",
        "            total_acoes += quantidade\n",
        "    return custo_total, acoes_compradas, total_acoes\n",
        "\n",
        "# Obter dados e centis para as ações pré-definidas\n",
        "df = obter_dados_e_centis(ACOES_PREDEFINIDAS, PERIODO_ANOS)\n",
        "\n",
        "# Criar widgets para seleção de quantidades\n",
        "quantidade_widgets = {ticker: widgets.IntText(value=0, description=f\"{ticker}\", min=0, layout=widgets.Layout(width='auto')) for ticker in df.index}\n",
        "calcular_button = widgets.Button(description='Calcular Compra')\n",
        "output = widgets.Output()\n",
        "\n",
        "\n",
        "def on_calcular_button_clicked(b):\n",
        "    with output:\n",
        "        clear_output()\n",
        "        selecoes = {ticker: widget.value for ticker, widget in quantidade_widgets.items()}\n",
        "        custo_total, acoes_compradas, total_acoes = calcular_custo_total(selecoes, df)\n",
        "        print('Resumo da compra:')\n",
        "        for ticker, quantidade in acoes_compradas.items():\n",
        "            preco = df.loc[ticker, 'Último Preço']\n",
        "            valor_total = preco * quantidade\n",
        "            print(f\"{ticker} ({df.loc[ticker, 'Nome']}): {quantidade} ações: R$ {valor_total:.2f}\")\n",
        "        print(f'Total de ações: {total_acoes}')\n",
        "        print(f'Custo total: R$ {custo_total:.2f}')\n",
        "\n",
        "\n",
        "calcular_button.on_click(on_calcular_button_clicked)\n",
        "\n",
        "# Exibir a tabela de ações e centis\n",
        "# display(df)\n",
        "pd.set_option('display.max_colwidth', None)\n",
        "print(df.to_string())\n",
        "\n",
        "# Organizar os widgets em 10 colunas\n",
        "widgets_list = list(quantidade_widgets.values())\n",
        "widget_grid = widgets.GridBox(widgets_list, layout=widgets.Layout(grid_template_columns=\"repeat(5, 1fr)\"))\n",
        "\n",
        "# Exibir os widgets para seleção de quantidades e o botão de cálculo\n",
        "display(widgets.VBox([widget_grid, calcular_button, output]))"
      ],
      "metadata": {
        "id": "JgeggDzNN9DF"
      },
      "execution_count": null,
      "outputs": []
    },
    {
      "cell_type": "markdown",
      "source": [
        "## Vamos às compras.\n",
        "#### Sobrou parte do 13º? Recebeu um dinheiro a mais? Prencha as quantidades para as ações que você achou que estão a bom preço e clique em __Calcular Compra__ para saber quanto irá custar. Depois é ir para sua corretora e executar a compra."
      ],
      "metadata": {
        "id": "KNsToXfPNKy-"
      }
    }
  ]
}